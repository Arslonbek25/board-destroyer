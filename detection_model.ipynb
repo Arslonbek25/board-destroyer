{
 "cells": [
  {
   "cell_type": "code",
   "execution_count": 10,
   "metadata": {},
   "outputs": [],
   "source": [
    "import os\n",
    "\n",
    "import cv2 as cv\n",
    "import numpy as np\n",
    "from ultralytics import YOLO\n",
    "\n",
    "model_path = os.path.join(os.getcwd(), \"YOLO_model\", \"weights\", \"best.pt\")\n",
    "model = YOLO(model_path)"
   ]
  },
  {
   "cell_type": "code",
   "execution_count": 11,
   "metadata": {},
   "outputs": [],
   "source": [
    "piece_names = {\n",
    "    \"white-king\": \"K\",\n",
    "    \"white-queen\": \"Q\",\n",
    "    \"white-rook\": \"R\",\n",
    "    \"white-bishop\": \"B\",\n",
    "    \"white-knight\": \"N\",\n",
    "    \"white-pawn\": \"P\",\n",
    "    \"black-king\": \"k\",\n",
    "    \"black-queen\": \"q\",\n",
    "    \"black-rook\": \"r\",\n",
    "    \"black-bishop\": \"b\",\n",
    "    \"black-knight\": \"n\",\n",
    "    \"black-pawn\": \"p\",\n",
    "}"
   ]
  },
  {
   "cell_type": "code",
   "execution_count": 12,
   "metadata": {},
   "outputs": [],
   "source": [
    "def find_pieces(board):\n",
    "    pos = np.zeros((8, 8), dtype=np.dtype(\"U1\"))\n",
    "    res = model.predict(board)[0]\n",
    "    coords = res.boxes.xyxy.numpy().astype(int)[:, 0:2]\n",
    "    labels = [model.names[int(c)] for c in res.boxes.cls]\n",
    "    board_height, board_width, _ = board.shape\n",
    "    print(labels)\n",
    "    print(res.boxes.conf)\n",
    "    for i in range(len(coords)):\n",
    "        x, y = coords[i]\n",
    "        posX = round(8 * x / board_width)\n",
    "        posY = round(8 * y / board_height)\n",
    "        pos[posY, posX] = piece_names[labels[i]]\n",
    "\n",
    "    return pos"
   ]
  },
  {
   "cell_type": "code",
   "execution_count": 14,
   "metadata": {},
   "outputs": [
    {
     "name": "stderr",
     "output_type": "stream",
     "text": [
      "\n",
      "0: 640x640 1 black-king, 7 black-pawns, 1 black-queen, 1 black-rook, 2 white-bishops, 1 white-king, 6 white-pawns, 1 white-queen, 1 white-rook, 179.1ms\n",
      "Speed: 2.1ms preprocess, 179.1ms inference, 1.5ms postprocess per image at shape (1, 3, 640, 640)\n"
     ]
    },
    {
     "name": "stdout",
     "output_type": "stream",
     "text": [
      "['white-bishop', 'black-king', 'white-queen', 'black-queen', 'white-king', 'white-bishop', 'black-rook', 'black-pawn', 'black-pawn', 'white-rook', 'black-pawn', 'white-pawn', 'black-pawn', 'black-pawn', 'white-pawn', 'white-pawn', 'white-pawn', 'black-pawn', 'white-pawn', 'white-pawn', 'black-pawn']\n",
      "tensor([0.9762, 0.9538, 0.9266, 0.9260, 0.9172, 0.9104, 0.9076, 0.8910, 0.8842, 0.8758, 0.8693, 0.8611, 0.8451, 0.8442, 0.8238, 0.8201, 0.8168, 0.8145, 0.7954, 0.7246, 0.2523])\n",
      "5rk1/1p2q1pp/p3R3/3p1p2/Q2B4/2P4B/PP3PPP/6K1 w\n",
      "[['' '' '' '' '' 'r' 'k' '']\n",
      " ['' 'p' '' '' 'q' '' 'p' 'p']\n",
      " ['p' '' '' '' 'R' '' '' '']\n",
      " ['' '' '' 'p' '' 'p' '' '']\n",
      " ['Q' '' '' 'B' '' '' '' '']\n",
      " ['' '' 'P' '' '' '' '' 'B']\n",
      " ['P' 'P' '' '' '' 'P' 'P' 'P']\n",
      " ['' '' '' '' '' '' 'K' '']]\n"
     ]
    }
   ],
   "source": [
    "img = cv.imread(\"scr.png\")[:, :, :3]\n",
    "img = cv.resize(img, (640, 640))\n",
    "res = find_pieces(img)\n",
    "from analysis import get_fen\n",
    "\n",
    "print(get_fen(res, \"w\"))\n",
    "print(res)"
   ]
  }
 ],
 "metadata": {
  "kernelspec": {
   "display_name": "opencvenv",
   "language": "python",
   "name": "python3"
  },
  "language_info": {
   "codemirror_mode": {
    "name": "ipython",
    "version": 3
   },
   "file_extension": ".py",
   "mimetype": "text/x-python",
   "name": "python",
   "nbconvert_exporter": "python",
   "pygments_lexer": "ipython3",
   "version": "3.11.3"
  },
  "orig_nbformat": 4
 },
 "nbformat": 4,
 "nbformat_minor": 2
}
