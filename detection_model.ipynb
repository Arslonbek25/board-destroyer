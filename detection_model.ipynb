{
 "cells": [
  {
   "cell_type": "code",
   "execution_count": 151,
   "metadata": {},
   "outputs": [],
   "source": [
    "import cv2 as cv\n",
    "import numpy as np\n",
    "from ultralytics import YOLO\n",
    "\n",
    "model = YOLO(\n",
    "    \"/Users/amadyarov/Documents/Coding/projects/board-destroyer/model/weights/best.pt\"\n",
    ")"
   ]
  },
  {
   "cell_type": "code",
   "execution_count": 152,
   "metadata": {},
   "outputs": [],
   "source": [
    "def draw_boxes(board, xyxy_coords, class_names):\n",
    "    for box, label in zip(xyxy_coords, class_names):\n",
    "        x1, y1, x2, y2 = box\n",
    "        cv.rectangle(board, (x1, y1), (x2, y2), (0, 0, 255), 2)\n",
    "        cv.putText(\n",
    "            board, label, (x1, y1 + 20), cv.FONT_HERSHEY_SIMPLEX, 1, (0, 0, 0), 6\n",
    "        )\n",
    "\n",
    "    cv.imshow(\"Result\", board)\n",
    "    cv.waitKey(0)\n",
    "    cv.destroyAllWindows()"
   ]
  },
  {
   "cell_type": "code",
   "execution_count": 153,
   "metadata": {},
   "outputs": [],
   "source": [
    "piece_names = {\n",
    "    \"white-king\": \"K\",\n",
    "    \"white-queen\": \"Q\",\n",
    "    \"white-rook\": \"R\",\n",
    "    \"white-bishop\": \"B\",\n",
    "    \"white-knight\": \"N\",\n",
    "    \"white-pawn\": \"P\",\n",
    "    \"black-king\": \"k\",\n",
    "    \"black-queen\": \"q\",\n",
    "    \"black-rook\": \"r\",\n",
    "    \"black-bishop\": \"b\",\n",
    "    \"black-knight\": \"n\",\n",
    "    \"black-pawn\": \"p\",\n",
    "}"
   ]
  },
  {
   "cell_type": "code",
   "execution_count": 154,
   "metadata": {},
   "outputs": [],
   "source": [
    "def find_pieces(board):\n",
    "    pos = np.zeros((8, 8), dtype=np.dtype(\"U1\"))\n",
    "    res = model.predict(board)[0]\n",
    "    coords = res.boxes.xyxy.numpy().astype(int)[:, 0:2]\n",
    "    labels = [model.names[int(c)] for c in res.boxes.cls]\n",
    "    board_height, board_width, _ = board.shape\n",
    "\n",
    "    for i in range(len(coords)):\n",
    "        x, y = coords[i]\n",
    "        posX = round(8 * x / board_width)\n",
    "        posY = round(8 * y / board_height)\n",
    "        pos[posY, posX] = piece_names[labels[i]]\n",
    "\n",
    "    return pos"
   ]
  },
  {
   "cell_type": "code",
   "execution_count": 158,
   "metadata": {},
   "outputs": [
    {
     "name": "stderr",
     "output_type": "stream",
     "text": [
      "\n",
      "0: 640x640 2 black-bishops, 1 black-king, 2 black-knights, 8 black-pawns, 1 black-queen, 2 black-rooks, 2 white-bishops, 1 white-king, 2 white-knights, 8 white-pawns, 1 white-queen, 2 white-rooks, 161.6ms\n",
      "Speed: 1.9ms preprocess, 161.6ms inference, 1.0ms postprocess per image at shape (1, 3, 640, 640)\n"
     ]
    },
    {
     "name": "stdout",
     "output_type": "stream",
     "text": [
      "['black-bishop', 'black-pawn', 'white-pawn', 'white-bishop', 'black-rook', 'black-king', 'black-knight', 'white-bishop', 'white-knight', 'white-pawn', 'white-knight', 'black-bishop', 'black-rook', 'black-pawn', 'white-queen', 'white-rook', 'black-pawn', 'white-rook', 'black-knight', 'black-queen', 'white-pawn', 'black-pawn', 'black-pawn', 'white-pawn', 'white-pawn', 'black-pawn', 'white-pawn', 'white-pawn', 'black-pawn', 'black-pawn', 'white-pawn', 'white-king']\n",
      "[['r' 'n' 'b' 'q' 'k' 'b' 'n' 'r']\n",
      " ['p' 'p' 'p' 'p' 'p' 'p' 'p' 'p']\n",
      " ['' '' '' '' '' '' '' '']\n",
      " ['' '' '' '' '' '' '' '']\n",
      " ['' '' '' '' '' '' '' '']\n",
      " ['' '' '' '' '' '' '' '']\n",
      " ['P' 'P' 'P' 'P' 'P' 'P' 'P' 'P']\n",
      " ['R' 'N' 'B' 'Q' 'K' 'B' 'N' 'R']]\n"
     ]
    }
   ],
   "source": [
    "board = cv.imread(\"assets/cb3.png\")\n",
    "board = cv.resize(board, (416, 416))\n",
    "finds = find_pieces(board)\n",
    "print(finds)"
   ]
  }
 ],
 "metadata": {
  "kernelspec": {
   "display_name": "opencvenv",
   "language": "python",
   "name": "python3"
  },
  "language_info": {
   "codemirror_mode": {
    "name": "ipython",
    "version": 3
   },
   "file_extension": ".py",
   "mimetype": "text/x-python",
   "name": "python",
   "nbconvert_exporter": "python",
   "pygments_lexer": "ipython3",
   "version": "3.11.3"
  },
  "orig_nbformat": 4
 },
 "nbformat": 4,
 "nbformat_minor": 2
}
