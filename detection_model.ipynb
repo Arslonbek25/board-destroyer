{
 "cells": [
  {
   "cell_type": "code",
   "execution_count": 111,
   "metadata": {},
   "outputs": [],
   "source": [
    "import os\n",
    "\n",
    "import cv2 as cv\n",
    "import numpy as np\n",
    "from ultralytics import YOLO\n",
    "\n",
    "model_path = os.path.join(os.getcwd(), \"YOLO_model\", \"weights\", \"best.pt\")\n",
    "model = YOLO(model_path)"
   ]
  },
  {
   "cell_type": "code",
   "execution_count": 112,
   "metadata": {},
   "outputs": [],
   "source": [
    "piece_names = {\n",
    "    \"white-king\": \"K\",\n",
    "    \"white-queen\": \"Q\",\n",
    "    \"white-rook\": \"R\",\n",
    "    \"white-bishop\": \"B\",\n",
    "    \"white-knight\": \"N\",\n",
    "    \"white-pawn\": \"P\",\n",
    "    \"black-king\": \"k\",\n",
    "    \"black-queen\": \"q\",\n",
    "    \"black-rook\": \"r\",\n",
    "    \"black-bishop\": \"b\",\n",
    "    \"black-knight\": \"n\",\n",
    "    \"black-pawn\": \"p\",\n",
    "}"
   ]
  },
  {
   "cell_type": "code",
   "execution_count": 113,
   "metadata": {},
   "outputs": [],
   "source": [
    "def find_pieces(board):\n",
    "    pos = np.zeros((8, 8), dtype=np.dtype(\"U1\"))\n",
    "    res = model.predict(board)[0]\n",
    "    coords = res.boxes.xyxy.numpy().astype(int)[:, 0:2]\n",
    "    labels = [model.names[int(c)] for c in res.boxes.cls]\n",
    "    board_height, board_width, _ = board.shape\n",
    "    print(labels)\n",
    "    print(res.boxes.conf)\n",
    "    for i in range(len(coords)):\n",
    "        x, y = coords[i]\n",
    "        posX = round(8 * x / board_width)\n",
    "        posY = round(8 * y / board_height)\n",
    "        pos[posY, posX] = piece_names[labels[i]]\n",
    "\n",
    "    return pos"
   ]
  },
  {
   "cell_type": "code",
   "execution_count": 114,
   "metadata": {},
   "outputs": [
    {
     "name": "stderr",
     "output_type": "stream",
     "text": [
      "\n",
      "0: 640x640 2 black-bishops, 1 black-king, 1 black-knight, 2 black-pawns, 1 black-queen, 2 black-rooks, 1 white-bishop, 1 white-king, 2 white-knights, 3 white-pawns, 1 white-queen, 1 white-rook, 167.8ms\n",
      "Speed: 8.6ms preprocess, 167.8ms inference, 2.0ms postprocess per image at shape (1, 3, 640, 640)\n"
     ]
    },
    {
     "name": "stdout",
     "output_type": "stream",
     "text": [
      "['black-queen', 'black-rook', 'black-knight', 'black-pawn', 'white-king', 'white-queen', 'white-knight', 'white-knight', 'white-bishop', 'black-rook', 'black-king', 'white-pawn', 'black-pawn', 'black-bishop', 'white-rook', 'black-bishop', 'white-pawn', 'white-pawn']\n",
      "tensor([0.9489, 0.8950, 0.8843, 0.8790, 0.8751, 0.8678, 0.8439, 0.8376, 0.8110, 0.8085, 0.8066, 0.7946, 0.7848, 0.7603, 0.7298, 0.6972, 0.5840, 0.4381])\n",
      "1b4Q1/r2n1p2/4k3/3N4/1p1PB1bq/4N3/r5P1/4RK2 w\n",
      "[['' 'b' '' '' '' '' 'Q' '']\n",
      " ['r' '' '' 'n' '' 'p' '' '']\n",
      " ['' '' '' '' 'k' '' '' '']\n",
      " ['' '' '' 'N' '' '' '' '']\n",
      " ['' 'p' '' 'P' 'B' '' 'b' 'q']\n",
      " ['' '' '' '' 'N' '' '' '']\n",
      " ['r' '' '' '' '' '' 'P' '']\n",
      " ['' '' '' '' 'R' 'K' '' '']]\n"
     ]
    }
   ],
   "source": [
    "img = cv.imread(\"scr2.png\")[:, :, :3]\n",
    "res = find_pieces(img)\n",
    "from analysis import get_fen\n",
    "\n",
    "print(get_fen(res, \"w\"))\n",
    "print(res)"
   ]
  }
 ],
 "metadata": {
  "kernelspec": {
   "display_name": "opencvenv",
   "language": "python",
   "name": "python3"
  },
  "language_info": {
   "codemirror_mode": {
    "name": "ipython",
    "version": 3
   },
   "file_extension": ".py",
   "mimetype": "text/x-python",
   "name": "python",
   "nbconvert_exporter": "python",
   "pygments_lexer": "ipython3",
   "version": "3.11.3"
  },
  "orig_nbformat": 4
 },
 "nbformat": 4,
 "nbformat_minor": 2
}
