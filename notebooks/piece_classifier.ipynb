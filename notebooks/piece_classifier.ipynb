{
 "cells": [
  {
   "cell_type": "code",
   "execution_count": 72,
   "metadata": {},
   "outputs": [],
   "source": [
    "import os\n",
    "\n",
    "import cv2 as cv\n",
    "import numpy as np\n",
    "from ultralytics import YOLO\n",
    "\n",
    "model_path = os.path.join(\n",
    "    os.path.dirname(os.getcwd()), \"YOLO_model\", \"weights\", \"best.pt\"\n",
    ")\n",
    "model = YOLO(model_path)"
   ]
  },
  {
   "cell_type": "code",
   "execution_count": 73,
   "metadata": {},
   "outputs": [],
   "source": [
    "piece_names = {\n",
    "    \"white-king\": \"K\",\n",
    "    \"white-queen\": \"Q\",\n",
    "    \"white-rook\": \"R\",\n",
    "    \"white-bishop\": \"B\",\n",
    "    \"white-knight\": \"N\",\n",
    "    \"white-pawn\": \"P\",\n",
    "    \"black-king\": \"k\",\n",
    "    \"black-queen\": \"q\",\n",
    "    \"black-rook\": \"r\",\n",
    "    \"black-bishop\": \"b\",\n",
    "    \"black-knight\": \"n\",\n",
    "    \"black-pawn\": \"p\",\n",
    "}"
   ]
  },
  {
   "cell_type": "code",
   "execution_count": 74,
   "metadata": {},
   "outputs": [],
   "source": [
    "def find_pieces(board):\n",
    "    pos = np.zeros((8, 8), dtype=np.dtype(\"U1\"))\n",
    "    res = model.predict(board)[0]\n",
    "    coords = res.boxes.xyxy.numpy().astype(int)[:, 0:2]\n",
    "    labels = [model.names[int(c)] for c in res.boxes.cls]\n",
    "    board_height, board_width, _ = board.shape\n",
    "    print(labels)\n",
    "    print(res.boxes.conf)\n",
    "    for i in range(len(coords)):\n",
    "        x, y = coords[i]\n",
    "        posX = round(8 * x / board_width)\n",
    "        posY = round(8 * y / board_height)\n",
    "        pos[posY, posX] = piece_names[labels[i]]\n",
    "\n",
    "    return pos"
   ]
  },
  {
   "cell_type": "code",
   "execution_count": 84,
   "metadata": {},
   "outputs": [
    {
     "name": "stderr",
     "output_type": "stream",
     "text": [
      "\n",
      "0: 640x640 1 black-king, 1 black-knight, 6 black-pawns, 1 black-queen, 1 white-bishop, 1 white-king, 1 white-knight, 7 white-pawns, 1 white-queen, 178.2ms\n",
      "Speed: 2.5ms preprocess, 178.2ms inference, 1.7ms postprocess per image at shape (1, 3, 640, 640)\n"
     ]
    },
    {
     "name": "stdout",
     "output_type": "stream",
     "text": [
      "['white-bishop', 'white-knight', 'black-pawn', 'black-pawn', 'black-pawn', 'black-queen', 'black-pawn', 'white-pawn', 'white-queen', 'black-pawn', 'white-pawn', 'white-king', 'white-pawn', 'black-pawn', 'white-pawn', 'black-knight', 'black-king', 'white-pawn', 'white-pawn', 'white-pawn']\n",
      "tensor([0.9758, 0.9448, 0.9290, 0.9215, 0.9126, 0.9115, 0.9115, 0.9041, 0.8931, 0.8889, 0.8807, 0.8792, 0.8721, 0.8490, 0.8433, 0.8428, 0.8141, 0.7793, 0.7456, 0.7428])\n",
      "K4Q2/1PP5/P2PB1PP/4P3/4p2N/2npq1p1/ppp5/1k6 w\n",
      "[['K' '' '' '' '' 'Q' '' '']\n",
      " ['' 'P' 'P' '' '' '' '' '']\n",
      " ['P' '' '' 'P' 'B' '' 'P' 'P']\n",
      " ['' '' '' '' 'P' '' '' '']\n",
      " ['' '' '' '' 'p' '' '' 'N']\n",
      " ['' '' 'n' 'p' 'q' '' 'p' '']\n",
      " ['p' 'p' 'p' '' '' '' '' '']\n",
      " ['' 'k' '' '' '' '' '' '']]\n"
     ]
    }
   ],
   "source": [
    "img = cv.imread(\"../scr.png\")[:, :, :3]\n",
    "img = cv.resize(img, (640, 640))\n",
    "res = find_pieces(img)\n",
    "from analysis import get_fen\n",
    "\n",
    "print(get_fen(res, \"w\"))\n",
    "print(res)"
   ]
  }
 ],
 "metadata": {
  "kernelspec": {
   "display_name": "opencvenv",
   "language": "python",
   "name": "python3"
  },
  "language_info": {
   "codemirror_mode": {
    "name": "ipython",
    "version": 3
   },
   "file_extension": ".py",
   "mimetype": "text/x-python",
   "name": "python",
   "nbconvert_exporter": "python",
   "pygments_lexer": "ipython3",
   "version": "3.11.3"
  },
  "orig_nbformat": 4
 },
 "nbformat": 4,
 "nbformat_minor": 2
}
