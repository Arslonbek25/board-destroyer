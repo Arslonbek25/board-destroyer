{
 "cells": [
  {
   "cell_type": "code",
   "execution_count": 2,
   "metadata": {},
   "outputs": [],
   "source": [
    "import os\n",
    "\n",
    "import cv2 as cv\n",
    "import numpy as np\n",
    "from ultralytics import YOLO\n",
    "\n",
    "model_path = os.path.join(\n",
    "    os.path.dirname(os.getcwd()), \"YOLO_model\", \"weights\", \"best.pt\"\n",
    ")\n",
    "model = YOLO(model_path)"
   ]
  },
  {
   "cell_type": "code",
   "execution_count": 3,
   "metadata": {},
   "outputs": [],
   "source": [
    "piece_names = {\n",
    "    \"white-king\": \"K\",\n",
    "    \"white-queen\": \"Q\",\n",
    "    \"white-rook\": \"R\",\n",
    "    \"white-bishop\": \"B\",\n",
    "    \"white-knight\": \"N\",\n",
    "    \"white-pawn\": \"P\",\n",
    "    \"black-king\": \"k\",\n",
    "    \"black-queen\": \"q\",\n",
    "    \"black-rook\": \"r\",\n",
    "    \"black-bishop\": \"b\",\n",
    "    \"black-knight\": \"n\",\n",
    "    \"black-pawn\": \"p\",\n",
    "}"
   ]
  },
  {
   "cell_type": "code",
   "execution_count": 4,
   "metadata": {},
   "outputs": [],
   "source": [
    "def find_pieces(board):\n",
    "    pos = np.zeros((8, 8), dtype=np.dtype(\"U1\"))\n",
    "    res = model.predict(board)[0]\n",
    "    coords = res.boxes.xyxy.numpy().astype(int)[:, 0:2]\n",
    "    labels = [model.names[int(c)] for c in res.boxes.cls]\n",
    "    board_height, board_width, _ = board.shape\n",
    "    print(labels)\n",
    "    print(res.boxes.conf)\n",
    "    for i in range(len(coords)):\n",
    "        x, y = coords[i]\n",
    "        posX = round(8 * x / board_width)\n",
    "        posY = round(8 * y / board_height)\n",
    "        pos[posY, posX] = piece_names[labels[i]]\n",
    "\n",
    "    return pos"
   ]
  },
  {
   "cell_type": "code",
   "execution_count": 8,
   "metadata": {},
   "outputs": [
    {
     "name": "stderr",
     "output_type": "stream",
     "text": [
      "\n"
     ]
    },
    {
     "name": "stderr",
     "output_type": "stream",
     "text": [
      "0: 640x640 1 black-king, 7 black-pawns, 1 black-queen, 2 black-rooks, 1 white-bishop, 1 white-king, 6 white-pawns, 1 white-queen, 1 white-rook, 219.8ms\n",
      "Speed: 5.5ms preprocess, 219.8ms inference, 1.0ms postprocess per image at shape (1, 3, 640, 640)\n"
     ]
    },
    {
     "name": "stdout",
     "output_type": "stream",
     "text": [
      "['black-queen', 'white-queen', 'white-bishop', 'black-king', 'black-pawn', 'white-king', 'black-pawn', 'white-rook', 'black-pawn', 'black-pawn', 'white-pawn', 'black-pawn', 'white-pawn', 'black-pawn', 'black-rook', 'black-pawn', 'white-pawn', 'white-pawn', 'white-pawn', 'white-pawn', 'black-rook']\n",
      "tensor([0.9837, 0.9502, 0.9453, 0.9401, 0.9361, 0.9248, 0.9156, 0.9116, 0.8879, 0.8831, 0.8749, 0.8676, 0.8499, 0.8437, 0.8269, 0.8233, 0.8114, 0.7995, 0.7691, 0.7620, 0.6629])\n",
      "1K2R3/1PP4P/P2BP3/5P2/6Q1/p1p1p1p1/1pq2p1p/1krr4 w\n",
      "[['' 'K' '' '' 'R' '' '' '']\n",
      " ['' 'P' 'P' '' '' '' '' 'P']\n",
      " ['P' '' '' 'B' 'P' '' '' '']\n",
      " ['' '' '' '' '' 'P' '' '']\n",
      " ['' '' '' '' '' '' 'Q' '']\n",
      " ['p' '' 'p' '' 'p' '' 'p' '']\n",
      " ['' 'p' 'q' '' '' 'p' '' 'p']\n",
      " ['' 'k' 'r' 'r' '' '' '' '']]\n"
     ]
    }
   ],
   "source": [
    "img = cv.imread(\"../scr.png\")[:, :, :3]\n",
    "img = cv.resize(img, (640, 640))\n",
    "res = find_pieces(img)\n",
    "import sys\n",
    "\n",
    "sys.path.append(\"../src\")\n",
    "from analysis import get_fen\n",
    "\n",
    "print(get_fen(res, \"w\"))\n",
    "print(res)"
   ]
  }
 ],
 "metadata": {
  "kernelspec": {
   "display_name": "opencvenv",
   "language": "python",
   "name": "python3"
  },
  "language_info": {
   "codemirror_mode": {
    "name": "ipython",
    "version": 3
   },
   "file_extension": ".py",
   "mimetype": "text/x-python",
   "name": "python",
   "nbconvert_exporter": "python",
   "pygments_lexer": "ipython3",
   "version": "3.11.3"
  },
  "orig_nbformat": 4
 },
 "nbformat": 4,
 "nbformat_minor": 2
}
